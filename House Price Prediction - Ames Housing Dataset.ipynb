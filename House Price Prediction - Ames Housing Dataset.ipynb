{
 "cells": [
  {
   "cell_type": "markdown",
   "metadata": {},
   "source": [
    "# PROBLEM STATEMENT #\n",
    "\n",
    "Ask a home buyer to describe their dream house, and they probably won't begin with the height of the basement ceiling or the proximity to an east-west railroad. But this playground competition's dataset proves that much more influences price negotiations than the number of bedrooms or a white-picket fence.\n",
    "\n",
    "With 79 explanatory variables describing (almost) every aspect of residential homes in Ames, Iowa, this competition challenges you to predict the final price of each home."
   ]
  },
  {
   "cell_type": "code",
   "execution_count": 1,
   "metadata": {
    "execution": {
     "iopub.execute_input": "2021-05-17T07:05:10.982939Z",
     "iopub.status.busy": "2021-05-17T07:05:10.982206Z",
     "iopub.status.idle": "2021-05-17T07:05:13.745809Z",
     "shell.execute_reply": "2021-05-17T07:05:13.744673Z"
    },
    "papermill": {
     "duration": 2.822062,
     "end_time": "2021-05-17T07:05:13.745999",
     "exception": false,
     "start_time": "2021-05-17T07:05:10.923937",
     "status": "completed"
    },
    "tags": []
   },
   "outputs": [],
   "source": [
    "import numpy as np\n",
    "import pandas as pd\n",
    "import matplotlib.pyplot as plt\n",
    "import seaborn as sns\n",
    "\n",
    "from IPython.display import display_html\n",
    "\n",
    "from scipy import stats\n",
    "\n",
    "from sklearn.preprocessing import LabelEncoder\n",
    "from sklearn.preprocessing import OneHotEncoder\n",
    "\n",
    "\n",
    "from sklearn.model_selection import train_test_split\n",
    "from sklearn.model_selection import KFold\n",
    "from sklearn.model_selection import cross_val_score\n",
    "\n",
    "\n",
    "from sklearn.metrics import mean_squared_error\n",
    "from xgboost import XGBRegressor\n",
    "\n",
    "\n",
    "import warnings\n",
    "warnings.filterwarnings('always')\n",
    "warnings.filterwarnings('ignore')"
   ]
  },
  {
   "cell_type": "code",
   "execution_count": 2,
   "metadata": {
    "execution": {
     "iopub.execute_input": "2021-05-17T07:05:13.833119Z",
     "iopub.status.busy": "2021-05-17T07:05:13.832307Z",
     "iopub.status.idle": "2021-05-17T07:05:13.919320Z",
     "shell.execute_reply": "2021-05-17T07:05:13.918272Z"
    },
    "papermill": {
     "duration": 0.132848,
     "end_time": "2021-05-17T07:05:13.919542",
     "exception": false,
     "start_time": "2021-05-17T07:05:13.786694",
     "status": "completed"
    },
    "tags": []
   },
   "outputs": [],
   "source": [
    "# Training dataset\n",
    "train = pd.read_csv(r\"C:\\Users\\Sasidharan\\Desktop\\Data Science Projects\\House Price Prediction\\train.csv\")\n",
    "\n",
    "# Prediction Set\n",
    "p = pd.read_csv(r\"C:\\Users\\Sasidharan\\Desktop\\Data Science Projects\\House Price Prediction\\test.csv\")"
   ]
  },
  {
   "cell_type": "markdown",
   "metadata": {
    "papermill": {
     "duration": 0.039876,
     "end_time": "2021-05-17T07:05:13.999691",
     "exception": false,
     "start_time": "2021-05-17T07:05:13.959815",
     "status": "completed"
    },
    "tags": []
   },
   "source": [
    "**BASIC DATA EXPLORATION**"
   ]
  },
  {
   "cell_type": "code",
   "execution_count": 3,
   "metadata": {
    "execution": {
     "iopub.execute_input": "2021-05-17T07:05:14.086405Z",
     "iopub.status.busy": "2021-05-17T07:05:14.085705Z",
     "iopub.status.idle": "2021-05-17T07:05:14.090678Z",
     "shell.execute_reply": "2021-05-17T07:05:14.091165Z"
    },
    "papermill": {
     "duration": 0.052803,
     "end_time": "2021-05-17T07:05:14.091543",
     "exception": false,
     "start_time": "2021-05-17T07:05:14.038740",
     "status": "completed"
    },
    "tags": []
   },
   "outputs": [
    {
     "name": "stdout",
     "output_type": "stream",
     "text": [
      "Train Data Size: (1460, 81)\n",
      "Test Data Size: (1459, 80)\n"
     ]
    }
   ],
   "source": [
    "print(\"Train Data Size:\", train.shape)\n",
    "print(\"Test Data Size:\", p.shape)"
   ]
  },
  {
   "cell_type": "code",
   "execution_count": 4,
   "metadata": {
    "execution": {
     "iopub.execute_input": "2021-05-17T07:05:14.182740Z",
     "iopub.status.busy": "2021-05-17T07:05:14.181833Z",
     "iopub.status.idle": "2021-05-17T07:05:14.211363Z",
     "shell.execute_reply": "2021-05-17T07:05:14.211809Z"
    },
    "papermill": {
     "duration": 0.080818,
     "end_time": "2021-05-17T07:05:14.211996",
     "exception": false,
     "start_time": "2021-05-17T07:05:14.131178",
     "status": "completed"
    },
    "tags": []
   },
   "outputs": [
    {
     "data": {
      "text/html": [
       "<div>\n",
       "<style scoped>\n",
       "    .dataframe tbody tr th:only-of-type {\n",
       "        vertical-align: middle;\n",
       "    }\n",
       "\n",
       "    .dataframe tbody tr th {\n",
       "        vertical-align: top;\n",
       "    }\n",
       "\n",
       "    .dataframe thead th {\n",
       "        text-align: right;\n",
       "    }\n",
       "</style>\n",
       "<table border=\"1\" class=\"dataframe\">\n",
       "  <thead>\n",
       "    <tr style=\"text-align: right;\">\n",
       "      <th></th>\n",
       "      <th>Id</th>\n",
       "      <th>MSSubClass</th>\n",
       "      <th>MSZoning</th>\n",
       "      <th>LotFrontage</th>\n",
       "      <th>LotArea</th>\n",
       "      <th>Street</th>\n",
       "      <th>Alley</th>\n",
       "      <th>LotShape</th>\n",
       "      <th>LandContour</th>\n",
       "      <th>Utilities</th>\n",
       "      <th>...</th>\n",
       "      <th>PoolArea</th>\n",
       "      <th>PoolQC</th>\n",
       "      <th>Fence</th>\n",
       "      <th>MiscFeature</th>\n",
       "      <th>MiscVal</th>\n",
       "      <th>MoSold</th>\n",
       "      <th>YrSold</th>\n",
       "      <th>SaleType</th>\n",
       "      <th>SaleCondition</th>\n",
       "      <th>SalePrice</th>\n",
       "    </tr>\n",
       "  </thead>\n",
       "  <tbody>\n",
       "    <tr>\n",
       "      <th>0</th>\n",
       "      <td>1</td>\n",
       "      <td>60</td>\n",
       "      <td>RL</td>\n",
       "      <td>65.0</td>\n",
       "      <td>8450</td>\n",
       "      <td>Pave</td>\n",
       "      <td>NaN</td>\n",
       "      <td>Reg</td>\n",
       "      <td>Lvl</td>\n",
       "      <td>AllPub</td>\n",
       "      <td>...</td>\n",
       "      <td>0</td>\n",
       "      <td>NaN</td>\n",
       "      <td>NaN</td>\n",
       "      <td>NaN</td>\n",
       "      <td>0</td>\n",
       "      <td>2</td>\n",
       "      <td>2008</td>\n",
       "      <td>WD</td>\n",
       "      <td>Normal</td>\n",
       "      <td>208500</td>\n",
       "    </tr>\n",
       "    <tr>\n",
       "      <th>1</th>\n",
       "      <td>2</td>\n",
       "      <td>20</td>\n",
       "      <td>RL</td>\n",
       "      <td>80.0</td>\n",
       "      <td>9600</td>\n",
       "      <td>Pave</td>\n",
       "      <td>NaN</td>\n",
       "      <td>Reg</td>\n",
       "      <td>Lvl</td>\n",
       "      <td>AllPub</td>\n",
       "      <td>...</td>\n",
       "      <td>0</td>\n",
       "      <td>NaN</td>\n",
       "      <td>NaN</td>\n",
       "      <td>NaN</td>\n",
       "      <td>0</td>\n",
       "      <td>5</td>\n",
       "      <td>2007</td>\n",
       "      <td>WD</td>\n",
       "      <td>Normal</td>\n",
       "      <td>181500</td>\n",
       "    </tr>\n",
       "    <tr>\n",
       "      <th>2</th>\n",
       "      <td>3</td>\n",
       "      <td>60</td>\n",
       "      <td>RL</td>\n",
       "      <td>68.0</td>\n",
       "      <td>11250</td>\n",
       "      <td>Pave</td>\n",
       "      <td>NaN</td>\n",
       "      <td>IR1</td>\n",
       "      <td>Lvl</td>\n",
       "      <td>AllPub</td>\n",
       "      <td>...</td>\n",
       "      <td>0</td>\n",
       "      <td>NaN</td>\n",
       "      <td>NaN</td>\n",
       "      <td>NaN</td>\n",
       "      <td>0</td>\n",
       "      <td>9</td>\n",
       "      <td>2008</td>\n",
       "      <td>WD</td>\n",
       "      <td>Normal</td>\n",
       "      <td>223500</td>\n",
       "    </tr>\n",
       "    <tr>\n",
       "      <th>3</th>\n",
       "      <td>4</td>\n",
       "      <td>70</td>\n",
       "      <td>RL</td>\n",
       "      <td>60.0</td>\n",
       "      <td>9550</td>\n",
       "      <td>Pave</td>\n",
       "      <td>NaN</td>\n",
       "      <td>IR1</td>\n",
       "      <td>Lvl</td>\n",
       "      <td>AllPub</td>\n",
       "      <td>...</td>\n",
       "      <td>0</td>\n",
       "      <td>NaN</td>\n",
       "      <td>NaN</td>\n",
       "      <td>NaN</td>\n",
       "      <td>0</td>\n",
       "      <td>2</td>\n",
       "      <td>2006</td>\n",
       "      <td>WD</td>\n",
       "      <td>Abnorml</td>\n",
       "      <td>140000</td>\n",
       "    </tr>\n",
       "    <tr>\n",
       "      <th>4</th>\n",
       "      <td>5</td>\n",
       "      <td>60</td>\n",
       "      <td>RL</td>\n",
       "      <td>84.0</td>\n",
       "      <td>14260</td>\n",
       "      <td>Pave</td>\n",
       "      <td>NaN</td>\n",
       "      <td>IR1</td>\n",
       "      <td>Lvl</td>\n",
       "      <td>AllPub</td>\n",
       "      <td>...</td>\n",
       "      <td>0</td>\n",
       "      <td>NaN</td>\n",
       "      <td>NaN</td>\n",
       "      <td>NaN</td>\n",
       "      <td>0</td>\n",
       "      <td>12</td>\n",
       "      <td>2008</td>\n",
       "      <td>WD</td>\n",
       "      <td>Normal</td>\n",
       "      <td>250000</td>\n",
       "    </tr>\n",
       "  </tbody>\n",
       "</table>\n",
       "<p>5 rows × 81 columns</p>\n",
       "</div>"
      ],
      "text/plain": [
       "   Id  MSSubClass MSZoning  LotFrontage  LotArea Street Alley LotShape  \\\n",
       "0   1          60       RL         65.0     8450   Pave   NaN      Reg   \n",
       "1   2          20       RL         80.0     9600   Pave   NaN      Reg   \n",
       "2   3          60       RL         68.0    11250   Pave   NaN      IR1   \n",
       "3   4          70       RL         60.0     9550   Pave   NaN      IR1   \n",
       "4   5          60       RL         84.0    14260   Pave   NaN      IR1   \n",
       "\n",
       "  LandContour Utilities  ... PoolArea PoolQC Fence MiscFeature MiscVal MoSold  \\\n",
       "0         Lvl    AllPub  ...        0    NaN   NaN         NaN       0      2   \n",
       "1         Lvl    AllPub  ...        0    NaN   NaN         NaN       0      5   \n",
       "2         Lvl    AllPub  ...        0    NaN   NaN         NaN       0      9   \n",
       "3         Lvl    AllPub  ...        0    NaN   NaN         NaN       0      2   \n",
       "4         Lvl    AllPub  ...        0    NaN   NaN         NaN       0     12   \n",
       "\n",
       "  YrSold  SaleType  SaleCondition  SalePrice  \n",
       "0   2008        WD         Normal     208500  \n",
       "1   2007        WD         Normal     181500  \n",
       "2   2008        WD         Normal     223500  \n",
       "3   2006        WD        Abnorml     140000  \n",
       "4   2008        WD         Normal     250000  \n",
       "\n",
       "[5 rows x 81 columns]"
      ]
     },
     "execution_count": 4,
     "metadata": {},
     "output_type": "execute_result"
    }
   ],
   "source": [
    "train.head()"
   ]
  },
  {
   "cell_type": "code",
   "execution_count": 5,
   "metadata": {},
   "outputs": [
    {
     "name": "stdout",
     "output_type": "stream",
     "text": [
      "PoolQC           99.520548\n",
      "MiscFeature      96.301370\n",
      "Alley            93.767123\n",
      "Fence            80.753425\n",
      "FireplaceQu      47.260274\n",
      "                   ...    \n",
      "CentralAir        0.000000\n",
      "SaleCondition     0.000000\n",
      "Heating           0.000000\n",
      "TotalBsmtSF       0.000000\n",
      "Id                0.000000\n",
      "Length: 81, dtype: float64\n"
     ]
    }
   ],
   "source": [
    "print((train.isnull().sum() / len(train) * 100).sort_values(ascending=False))"
   ]
  },
  {
   "cell_type": "code",
   "execution_count": 6,
   "metadata": {},
   "outputs": [
    {
     "name": "stdout",
     "output_type": "stream",
     "text": [
      "PoolQC         99.794380\n",
      "MiscFeature    96.504455\n",
      "Alley          92.666210\n",
      "Fence          80.123372\n",
      "FireplaceQu    50.034270\n",
      "                 ...    \n",
      "Electrical      0.000000\n",
      "CentralAir      0.000000\n",
      "HeatingQC       0.000000\n",
      "Foundation      0.000000\n",
      "Id              0.000000\n",
      "Length: 80, dtype: float64\n"
     ]
    }
   ],
   "source": [
    "print((p.isnull().sum() / len(p) * 100).sort_values(ascending=False))"
   ]
  },
  {
   "cell_type": "code",
   "execution_count": 7,
   "metadata": {
    "execution": {
     "iopub.execute_input": "2021-05-17T07:05:14.300052Z",
     "iopub.status.busy": "2021-05-17T07:05:14.298999Z",
     "iopub.status.idle": "2021-05-17T07:05:14.310859Z",
     "shell.execute_reply": "2021-05-17T07:05:14.309915Z"
    },
    "papermill": {
     "duration": 0.059079,
     "end_time": "2021-05-17T07:05:14.311217",
     "exception": false,
     "start_time": "2021-05-17T07:05:14.252138",
     "status": "completed"
    },
    "tags": []
   },
   "outputs": [
    {
     "name": "stdout",
     "output_type": "stream",
     "text": [
      "count      1460.000000\n",
      "mean     180921.195890\n",
      "std       79442.502883\n",
      "min       34900.000000\n",
      "25%      129975.000000\n",
      "50%      163000.000000\n",
      "75%      214000.000000\n",
      "max      755000.000000\n",
      "Name: SalePrice, dtype: float64\n"
     ]
    }
   ],
   "source": [
    "print(train[\"SalePrice\"].describe())"
   ]
  },
  {
   "cell_type": "code",
   "execution_count": 8,
   "metadata": {},
   "outputs": [
    {
     "name": "stdout",
     "output_type": "stream",
     "text": [
      "1.8828757597682129 6.536281860064529\n"
     ]
    }
   ],
   "source": [
    "print(train[\"SalePrice\"].skew(), train[\"SalePrice\"].kurtosis())"
   ]
  },
  {
   "cell_type": "code",
   "execution_count": 9,
   "metadata": {
    "execution": {
     "iopub.execute_input": "2021-05-17T07:05:14.402599Z",
     "iopub.status.busy": "2021-05-17T07:05:14.401959Z",
     "iopub.status.idle": "2021-05-17T07:05:14.726373Z",
     "shell.execute_reply": "2021-05-17T07:05:14.726889Z"
    },
    "papermill": {
     "duration": 0.372609,
     "end_time": "2021-05-17T07:05:14.727093",
     "exception": false,
     "start_time": "2021-05-17T07:05:14.354484",
     "status": "completed"
    },
    "tags": []
   },
   "outputs": [
    {
     "data": {
      "image/png": "[encoded data removed]",
      "text/plain": [
       "<Figure size 432x288 with 1 Axes>"
      ]
     },
     "metadata": {},
     "output_type": "display_data"
    }
   ],
   "source": [
    "sns.distplot(train[\"SalePrice\"])\n",
    "plt.show()\n",
    "\n",
    "# Target Variable has a positive skew ; "
   ]
  },
  {
   "cell_type": "code",
   "execution_count": 10,
   "metadata": {},
   "outputs": [
    {
     "data": {
      "image/png": "[encoded data removed]",
      "text/plain": [
       "<Figure size 432x288 with 1 Axes>"
      ]
     },
     "metadata": {},
     "output_type": "display_data"
    }
   ],
   "source": [
    "train[\"SalePrice\"] = np.log(train[\"SalePrice\"])\n",
    "sns.distplot(train[\"SalePrice\"])\n",
    "plt.show()"
   ]
  },
  {
   "cell_type": "markdown",
   "metadata": {},
   "source": [
    "**BASELINE MODEL**"
   ]
  },
  {
   "cell_type": "code",
   "execution_count": 11,
   "metadata": {},
   "outputs": [
    {
     "name": "stdout",
     "output_type": "stream",
     "text": [
      "Baseline Model Error: 0.1406686351043878\n"
     ]
    }
   ],
   "source": [
    "# We will set up a baseline model for benchmarking future models;\n",
    "\n",
    "def baseline(m):\n",
    "    y_b = m.pop(\"SalePrice\")\n",
    "    x_b = m.drop([\"Id\"], axis=1)\n",
    "    x_b = x_b.fillna(0)\n",
    "    x_b = pd.get_dummies(x_b)\n",
    "    \n",
    "    base = XGBRegressor()\n",
    "    \n",
    "    score = cross_val_score(base,x_b,y_b,cv=5, scoring = \"neg_mean_squared_error\")\n",
    "    score = -1*score.mean()\n",
    "    score = np.sqrt(score)\n",
    "    return score\n",
    "    \n",
    "base_Data = train.copy()\n",
    "print(\"Baseline Model Error:\", baseline(base_Data))"
   ]
  },
  {
   "cell_type": "code",
   "execution_count": 12,
   "metadata": {},
   "outputs": [
    {
     "data": {
      "image/png": "[encoded data removed]",
      "text/plain": [
       "<Figure size 720x720 with 2 Axes>"
      ]
     },
     "metadata": {},
     "output_type": "display_data"
    }
   ],
   "source": [
    "# Correlation - Coefficient\n",
    "\n",
    "corr = train.corr()\n",
    "strongest_corr = corr.index[abs(corr[\"SalePrice\"]) > 0.4 ]\n",
    "plt.figure(figsize=(10,10))\n",
    "sns.heatmap(corr[strongest_corr].corr(), annot = True, cmap = 'RdYlGn');"
   ]
  },
  {
   "cell_type": "markdown",
   "metadata": {},
   "source": [
    "**MultiCollinearity - Some of the independent variables have high correlation between them**\n",
    "\n",
    "With 0.95 as a cutoff we can eliminate a few variables. We will choose the one with higher corr with Saleprice between mulitcollinear variables.\n",
    "\n",
    "1. TotalBsmtSF & 1stFlrSF\n",
    "2. GrLivArea & TotalRoomsAbvGrd\n",
    "3. Garage Cars & Garage Area"
   ]
  },
  {
   "cell_type": "code",
   "execution_count": 13,
   "metadata": {},
   "outputs": [],
   "source": [
    "train.drop([\"1stFlrSF\",\"TotRmsAbvGrd\",\"GarageArea\"], axis=1, inplace=True)\n",
    "p.drop([\"1stFlrSF\",\"TotRmsAbvGrd\",\"GarageArea\"], axis=1, inplace=True)"
   ]
  },
  {
   "cell_type": "code",
   "execution_count": 14,
   "metadata": {},
   "outputs": [
    {
     "name": "stdout",
     "output_type": "stream",
     "text": [
      "SalePrice      1.000000\n",
      "OverallQual    0.817184\n",
      "GrLivArea      0.700927\n",
      "GarageCars     0.680625\n",
      "GarageArea     0.650888\n",
      "Name: SalePrice, dtype: float64 \n",
      "\n",
      "YrSold          -0.037263\n",
      "LowQualFinSF    -0.037963\n",
      "MSSubClass      -0.073959\n",
      "KitchenAbvGr    -0.147548\n",
      "EnclosedPorch   -0.149050\n",
      "Name: SalePrice, dtype: float64\n"
     ]
    }
   ],
   "source": [
    "print(corr[\"SalePrice\"].sort_values(ascending= False)[:5],'\\n')\n",
    "print(corr[\"SalePrice\"].sort_values(ascending= False)[-5:])"
   ]
  },
  {
   "cell_type": "markdown",
   "metadata": {},
   "source": [
    "**DATA VISUALIZATION**"
   ]
  },
  {
   "cell_type": "code",
   "execution_count": 15,
   "metadata": {
    "scrolled": true
   },
   "outputs": [
    {
     "data": {
      "image/png": "[encoded data removed]",
      "text/plain": [
       "<Figure size 432x288 with 1 Axes>"
      ]
     },
     "metadata": {},
     "output_type": "display_data"
    }
   ],
   "source": [
    "sns.boxplot(y= train['SalePrice'], x = train['OverallQual'])\n",
    "plt.show()"
   ]
  },
  {
   "cell_type": "code",
   "execution_count": 16,
   "metadata": {
    "scrolled": true
   },
   "outputs": [
    {
     "data": {
      "image/png": "[encoded data removed]",
      "text/plain": [
       "<Figure size 432x288 with 1 Axes>"
      ]
     },
     "metadata": {},
     "output_type": "display_data"
    }
   ],
   "source": [
    "sns.boxplot(y= train['SalePrice'], x = train['GarageCars'])\n",
    "plt.show()"
   ]
  },
  {
   "cell_type": "code",
   "execution_count": 17,
   "metadata": {},
   "outputs": [
    {
     "data": {
      "image/png": "[encoded data removed]",
      "text/plain": [
       "<Figure size 432x288 with 1 Axes>"
      ]
     },
     "metadata": {},
     "output_type": "display_data"
    }
   ],
   "source": [
    "plt.scatter(x = train[\"GrLivArea\"], y = train[\"SalePrice\"])\n",
    "plt.xlabel(\" Above Ground Living Area\")\n",
    "plt.ylabel(\"Sale Price\")\n",
    "plt.show()"
   ]
  },
  {
   "cell_type": "markdown",
   "metadata": {},
   "source": [
    "**The key attributes that SalePrice seems to depend on are Overall Quality of House, Garage attributes and Above Ground Living Area. We will utilize this information to create additional features using these**"
   ]
  },
  {
   "cell_type": "code",
   "execution_count": 18,
   "metadata": {},
   "outputs": [],
   "source": [
    "train[\"MSSubClass\"] = train[\"MSSubClass\"].astype(\"object\")\n",
    "p[\"MSSubClass\"] = p[\"MSSubClass\"].astype(\"object\")\n",
    "\n",
    "train[\"MoSold\"] = train[\"MoSold\"].astype(\"object\")\n",
    "p[\"MoSold\"] = p[\"MoSold\"].astype(\"object\")\n",
    "\n",
    "nvar = train.columns[train.dtypes != \"object\"]\n",
    "cvar = train.columns[train.dtypes == \"object\"]"
   ]
  },
  {
   "cell_type": "code",
   "execution_count": 19,
   "metadata": {},
   "outputs": [
    {
     "data": {
      "text/plain": [
       "LotFrontage      259\n",
       "GarageYrBlt       81\n",
       "MasVnrArea         8\n",
       "BsmtFinSF1         0\n",
       "LowQualFinSF       0\n",
       "2ndFlrSF           0\n",
       "TotalBsmtSF        0\n",
       "BsmtUnfSF          0\n",
       "BsmtFinSF2         0\n",
       "SalePrice          0\n",
       "BsmtFullBath       0\n",
       "YearRemodAdd       0\n",
       "YearBuilt          0\n",
       "OverallCond        0\n",
       "OverallQual        0\n",
       "LotArea            0\n",
       "GrLivArea          0\n",
       "BsmtHalfBath       0\n",
       "YrSold             0\n",
       "FullBath           0\n",
       "HalfBath           0\n",
       "BedroomAbvGr       0\n",
       "KitchenAbvGr       0\n",
       "Fireplaces         0\n",
       "GarageCars         0\n",
       "WoodDeckSF         0\n",
       "OpenPorchSF        0\n",
       "EnclosedPorch      0\n",
       "3SsnPorch          0\n",
       "ScreenPorch        0\n",
       "PoolArea           0\n",
       "MiscVal            0\n",
       "Id                 0\n",
       "dtype: int64"
      ]
     },
     "execution_count": 19,
     "metadata": {},
     "output_type": "execute_result"
    }
   ],
   "source": [
    "train[nvar].isnull().sum().sort_values(ascending = False)"
   ]
  },
  {
   "cell_type": "code",
   "execution_count": 20,
   "metadata": {},
   "outputs": [
    {
     "data": {
      "text/plain": [
       "LotFrontage      227\n",
       "GarageYrBlt       78\n",
       "MasVnrArea        15\n",
       "BsmtFullBath       2\n",
       "BsmtHalfBath       2\n",
       "TotalBsmtSF        1\n",
       "BsmtUnfSF          1\n",
       "BsmtFinSF2         1\n",
       "BsmtFinSF1         1\n",
       "GarageCars         1\n",
       "LowQualFinSF       0\n",
       "YearRemodAdd       0\n",
       "YearBuilt          0\n",
       "OverallCond        0\n",
       "OverallQual        0\n",
       "LotArea            0\n",
       "2ndFlrSF           0\n",
       "YrSold             0\n",
       "GrLivArea          0\n",
       "MiscVal            0\n",
       "FullBath           0\n",
       "HalfBath           0\n",
       "BedroomAbvGr       0\n",
       "KitchenAbvGr       0\n",
       "Fireplaces         0\n",
       "WoodDeckSF         0\n",
       "OpenPorchSF        0\n",
       "EnclosedPorch      0\n",
       "3SsnPorch          0\n",
       "ScreenPorch        0\n",
       "PoolArea           0\n",
       "Id                 0\n",
       "dtype: int64"
      ]
     },
     "execution_count": 20,
     "metadata": {},
     "output_type": "execute_result"
    }
   ],
   "source": [
    "p[p.columns[p.dtypes != \"object\"]].isnull().sum().sort_values(ascending = False)"
   ]
  },
  {
   "cell_type": "code",
   "execution_count": 21,
   "metadata": {},
   "outputs": [
    {
     "data": {
      "text/plain": [
       "PoolQC           1453\n",
       "MiscFeature      1406\n",
       "Alley            1369\n",
       "Fence            1179\n",
       "FireplaceQu       690\n",
       "GarageCond         81\n",
       "GarageQual         81\n",
       "GarageFinish       81\n",
       "GarageType         81\n",
       "BsmtFinType2       38\n",
       "BsmtExposure       38\n",
       "BsmtQual           37\n",
       "BsmtCond           37\n",
       "BsmtFinType1       37\n",
       "MasVnrType          8\n",
       "Electrical          1\n",
       "Utilities           0\n",
       "LotConfig           0\n",
       "LandContour         0\n",
       "RoofStyle           0\n",
       "LotShape            0\n",
       "Street              0\n",
       "LandSlope           0\n",
       "Neighborhood        0\n",
       "Condition1          0\n",
       "Condition2          0\n",
       "MSZoning            0\n",
       "BldgType            0\n",
       "HouseStyle          0\n",
       "SaleCondition       0\n",
       "RoofMatl            0\n",
       "Exterior1st         0\n",
       "Exterior2nd         0\n",
       "ExterQual           0\n",
       "ExterCond           0\n",
       "Foundation          0\n",
       "SaleType            0\n",
       "Heating             0\n",
       "HeatingQC           0\n",
       "CentralAir          0\n",
       "KitchenQual         0\n",
       "Functional          0\n",
       "PavedDrive          0\n",
       "MoSold              0\n",
       "MSSubClass          0\n",
       "dtype: int64"
      ]
     },
     "execution_count": 21,
     "metadata": {},
     "output_type": "execute_result"
    }
   ],
   "source": [
    "train[cvar].isnull().sum().sort_values(ascending = False)"
   ]
  },
  {
   "cell_type": "code",
   "execution_count": 22,
   "metadata": {
    "scrolled": true
   },
   "outputs": [
    {
     "data": {
      "text/plain": [
       "PoolQC           1456\n",
       "MiscFeature      1408\n",
       "Alley            1352\n",
       "Fence            1169\n",
       "FireplaceQu       730\n",
       "GarageCond         78\n",
       "GarageQual         78\n",
       "GarageFinish       78\n",
       "GarageType         76\n",
       "BsmtCond           45\n",
       "BsmtQual           44\n",
       "BsmtExposure       44\n",
       "BsmtFinType1       42\n",
       "BsmtFinType2       42\n",
       "MasVnrType         16\n",
       "MSZoning            4\n",
       "Utilities           2\n",
       "Functional          2\n",
       "Exterior1st         1\n",
       "Exterior2nd         1\n",
       "KitchenQual         1\n",
       "SaleType            1\n",
       "Neighborhood        0\n",
       "Condition1          0\n",
       "LotShape            0\n",
       "LandSlope           0\n",
       "LotConfig           0\n",
       "LandContour         0\n",
       "BldgType            0\n",
       "Street              0\n",
       "Condition2          0\n",
       "SaleCondition       0\n",
       "HouseStyle          0\n",
       "RoofStyle           0\n",
       "RoofMatl            0\n",
       "ExterQual           0\n",
       "ExterCond           0\n",
       "Foundation          0\n",
       "Heating             0\n",
       "HeatingQC           0\n",
       "CentralAir          0\n",
       "Electrical          0\n",
       "PavedDrive          0\n",
       "MoSold              0\n",
       "MSSubClass          0\n",
       "dtype: int64"
      ]
     },
     "execution_count": 22,
     "metadata": {},
     "output_type": "execute_result"
    }
   ],
   "source": [
    "p[cvar].isnull().sum().sort_values(ascending = False)"
   ]
  },
  {
   "cell_type": "markdown",
   "metadata": {},
   "source": [
    " **We have lots of missing values we have to take care of;**\n",
    "\n",
    "We will first divide the dataset into train set and a testing set (will be used to evaluate model performance on unseen data).We will handle the numerical missing values in both train and test set and then move on to categorical missing variables."
   ]
  },
  {
   "cell_type": "code",
   "execution_count": 23,
   "metadata": {},
   "outputs": [],
   "source": [
    "y = train[\"SalePrice\"]\n",
    "x = train.drop([\"SalePrice\"],axis=1)\n",
    "\n",
    "x_train, x_test, y_train, y_test = train_test_split(x,y,test_size = 0.20, random_state = 42)"
   ]
  },
  {
   "cell_type": "code",
   "execution_count": 24,
   "metadata": {},
   "outputs": [],
   "source": [
    "lf_median = x_train[\"LotFrontage\"].median()\n",
    "\n",
    "\n",
    "x_train[\"LotFrontage\"].fillna(lf_median,inplace=True)\n",
    "x_test[\"LotFrontage\"].fillna(lf_median,inplace=True)\n",
    "p[\"LotFrontage\"].fillna(train[\"LotFrontage\"].median(),inplace=True)"
   ]
  },
  {
   "cell_type": "code",
   "execution_count": 25,
   "metadata": {},
   "outputs": [
    {
     "data": {
      "text/html": [
       "<div>\n",
       "<style scoped>\n",
       "    .dataframe tbody tr th:only-of-type {\n",
       "        vertical-align: middle;\n",
       "    }\n",
       "\n",
       "    .dataframe tbody tr th {\n",
       "        vertical-align: top;\n",
       "    }\n",
       "\n",
       "    .dataframe thead th {\n",
       "        text-align: right;\n",
       "    }\n",
       "</style>\n",
       "<table border=\"1\" class=\"dataframe\">\n",
       "  <thead>\n",
       "    <tr style=\"text-align: right;\">\n",
       "      <th></th>\n",
       "      <th>GarageCond</th>\n",
       "      <th>GarageQual</th>\n",
       "      <th>GarageFinish</th>\n",
       "    </tr>\n",
       "  </thead>\n",
       "  <tbody>\n",
       "    <tr>\n",
       "      <th>638</th>\n",
       "      <td>NaN</td>\n",
       "      <td>NaN</td>\n",
       "      <td>NaN</td>\n",
       "    </tr>\n",
       "    <tr>\n",
       "      <th>210</th>\n",
       "      <td>NaN</td>\n",
       "      <td>NaN</td>\n",
       "      <td>NaN</td>\n",
       "    </tr>\n",
       "    <tr>\n",
       "      <th>48</th>\n",
       "      <td>NaN</td>\n",
       "      <td>NaN</td>\n",
       "      <td>NaN</td>\n",
       "    </tr>\n",
       "    <tr>\n",
       "      <th>155</th>\n",
       "      <td>NaN</td>\n",
       "      <td>NaN</td>\n",
       "      <td>NaN</td>\n",
       "    </tr>\n",
       "    <tr>\n",
       "      <th>1030</th>\n",
       "      <td>NaN</td>\n",
       "      <td>NaN</td>\n",
       "      <td>NaN</td>\n",
       "    </tr>\n",
       "    <tr>\n",
       "      <th>...</th>\n",
       "      <td>...</td>\n",
       "      <td>...</td>\n",
       "      <td>...</td>\n",
       "    </tr>\n",
       "    <tr>\n",
       "      <th>520</th>\n",
       "      <td>NaN</td>\n",
       "      <td>NaN</td>\n",
       "      <td>NaN</td>\n",
       "    </tr>\n",
       "    <tr>\n",
       "      <th>241</th>\n",
       "      <td>NaN</td>\n",
       "      <td>NaN</td>\n",
       "      <td>NaN</td>\n",
       "    </tr>\n",
       "    <tr>\n",
       "      <th>562</th>\n",
       "      <td>NaN</td>\n",
       "      <td>NaN</td>\n",
       "      <td>NaN</td>\n",
       "    </tr>\n",
       "    <tr>\n",
       "      <th>1337</th>\n",
       "      <td>NaN</td>\n",
       "      <td>NaN</td>\n",
       "      <td>NaN</td>\n",
       "    </tr>\n",
       "    <tr>\n",
       "      <th>1123</th>\n",
       "      <td>NaN</td>\n",
       "      <td>NaN</td>\n",
       "      <td>NaN</td>\n",
       "    </tr>\n",
       "  </tbody>\n",
       "</table>\n",
       "<p>64 rows × 3 columns</p>\n",
       "</div>"
      ],
      "text/plain": [
       "     GarageCond GarageQual GarageFinish\n",
       "638         NaN        NaN          NaN\n",
       "210         NaN        NaN          NaN\n",
       "48          NaN        NaN          NaN\n",
       "155         NaN        NaN          NaN\n",
       "1030        NaN        NaN          NaN\n",
       "...         ...        ...          ...\n",
       "520         NaN        NaN          NaN\n",
       "241         NaN        NaN          NaN\n",
       "562         NaN        NaN          NaN\n",
       "1337        NaN        NaN          NaN\n",
       "1123        NaN        NaN          NaN\n",
       "\n",
       "[64 rows x 3 columns]"
      ]
     },
     "execution_count": 25,
     "metadata": {},
     "output_type": "execute_result"
    }
   ],
   "source": [
    "# Garage Year Built Missing Values. These are likely to be missing as the house probably doesnt have a garage;\n",
    "x_train.loc[x_train.GarageYrBlt.isna()][[\"GarageCond\",\"GarageQual\",\"GarageFinish\"]]"
   ]
  },
  {
   "cell_type": "code",
   "execution_count": 26,
   "metadata": {},
   "outputs": [
    {
     "data": {
      "text/plain": [
       "254     None\n",
       "1066    None\n",
       "638     None\n",
       "380     None\n",
       "303     None\n",
       "        ... \n",
       "1044    None\n",
       "1095    None\n",
       "1130    None\n",
       "1294    None\n",
       "860     None\n",
       "Name: MasVnrType, Length: 674, dtype: object"
      ]
     },
     "execution_count": 26,
     "metadata": {},
     "output_type": "execute_result"
    }
   ],
   "source": [
    "# Masonry Veneer Area. It is missing since it has no masonry veneer;\n",
    "x_train.loc[x_train.MasVnrArea == 0][\"MasVnrType\"]"
   ]
  },
  {
   "cell_type": "code",
   "execution_count": 27,
   "metadata": {},
   "outputs": [],
   "source": [
    "x_train.MasVnrArea.fillna(0,inplace=True)\n",
    "x_test.MasVnrArea.fillna(0,inplace=True)\n",
    "p.MasVnrArea.fillna(0,inplace=True)"
   ]
  },
  {
   "cell_type": "markdown",
   "metadata": {},
   "source": [
    "All train numerical missing variables except Garage Year Built (we will use it later to create a feature) have been handled. Since the count of missing numerical variables in prediction dataset are very small in number, we will just fill in with zero's."
   ]
  },
  {
   "cell_type": "code",
   "execution_count": 28,
   "metadata": {},
   "outputs": [],
   "source": [
    "cols = [\"BsmtHalfBath\",\"BsmtFullBath\",\"BsmtFinSF1\",\"BsmtFinSF2\",\"BsmtUnfSF\",\"TotalBsmtSF\",\"GarageCars\"]\n",
    "\n",
    "for col in cols:\n",
    "    p[col].fillna(0,inplace=True)"
   ]
  },
  {
   "cell_type": "code",
   "execution_count": 29,
   "metadata": {},
   "outputs": [],
   "source": [
    "# Filling Categorical Missing Variables; Will drop features missing more than 80% of data;\n",
    "\n",
    "x_train.drop([\"PoolQC\",\"Alley\",\"Fence\",\"MiscFeature\"],axis=1,inplace=True)\n",
    "x_test.drop([\"PoolQC\",\"Alley\",\"Fence\",\"MiscFeature\"],axis=1,inplace=True)\n",
    "p.drop([\"PoolQC\",\"Alley\",\"Fence\",\"MiscFeature\"],axis=1,inplace=True)"
   ]
  },
  {
   "cell_type": "code",
   "execution_count": 30,
   "metadata": {},
   "outputs": [
    {
     "data": {
      "text/plain": [
       "0    690\n",
       "Name: Fireplaces, dtype: int64"
      ]
     },
     "execution_count": 30,
     "metadata": {},
     "output_type": "execute_result"
    }
   ],
   "source": [
    "# FireplaceQuality\n",
    "\n",
    "train.loc[train.FireplaceQu.isna()][\"Fireplaces\"].value_counts()"
   ]
  },
  {
   "cell_type": "code",
   "execution_count": 31,
   "metadata": {},
   "outputs": [],
   "source": [
    "x_train[\"FireplaceQu\"].fillna(\"NA\",inplace=True)\n",
    "x_test[\"FireplaceQu\"].fillna(\"NA\",inplace=True)\n",
    "p[\"FireplaceQu\"].fillna(\"NA\",inplace=True)"
   ]
  },
  {
   "cell_type": "code",
   "execution_count": 32,
   "metadata": {},
   "outputs": [],
   "source": [
    "# Garage characteristics\n",
    "cols = [\"GarageType\",\"GarageCond\",\"GarageQual\",\"GarageFinish\"]\n",
    "\n",
    "for col in cols:\n",
    "    x_train[col].fillna('NA',inplace=True)\n",
    "    x_test[col].fillna('NA',inplace=True)\n",
    "    p[col].fillna('NA',inplace=True)"
   ]
  },
  {
   "cell_type": "code",
   "execution_count": 33,
   "metadata": {},
   "outputs": [],
   "source": [
    "# Basement Characteristics\n",
    "\n",
    "co = [\"BsmtCond\",\"BsmtQual\",\"BsmtExposure\",\"BsmtFinType1\",\"BsmtFinType2\"]\n",
    "\n",
    "for col in co:\n",
    "    x_train[col].fillna('NA',inplace=True)\n",
    "    x_test[col].fillna('NA',inplace=True)\n",
    "    p[col].fillna('NA',inplace=True)\n",
    "\n",
    "x_train[\"Electrical\"].fillna('Mix',inplace=True)\n",
    "x_test[\"Electrical\"].fillna('Mix',inplace=True)\n",
    "p[\"MasVnrType\"].fillna(\"None\",inplace=True)"
   ]
  },
  {
   "cell_type": "code",
   "execution_count": 34,
   "metadata": {},
   "outputs": [],
   "source": [
    "p[\"MasVnrType\"].fillna('None',inplace=True)\n",
    "p[\"Utilities\"].fillna(train[\"Utilities\"].mode()[0],inplace=True)\n",
    "p[\"Functional\"].fillna(train[\"Functional\"].mode()[0],inplace=True)\n",
    "p[\"Exterior1st\"].fillna(train[\"Exterior1st\"].mode()[0],inplace=True)\n",
    "p[\"Exterior2nd\"].fillna(train[\"Exterior2nd\"].mode()[0],inplace=True)\n",
    "p[\"KitchenQual\"].fillna(train[\"KitchenQual\"].mode()[0],inplace=True)\n",
    "p[\"MSZoning\"].fillna(train[\"MSZoning\"].mode()[0],inplace=True)\n",
    "p[\"SaleType\"].fillna(\"Oth\",inplace=True)"
   ]
  },
  {
   "cell_type": "markdown",
   "metadata": {},
   "source": [
    "** OUTLIER FIXING,FEATURE ENGINEERING**"
   ]
  },
  {
   "cell_type": "code",
   "execution_count": 35,
   "metadata": {},
   "outputs": [],
   "source": [
    "# Fixing outliers with capping method;\n",
    "\n",
    "num_feats = x_train.columns[x_train.dtypes != 'object']\n",
    "\n",
    "for col in num_feats:\n",
    "    \n",
    "    q1 = x_train[col].quantile(0.25)\n",
    "    q3 = x_train[col].quantile(0.75)\n",
    "    iqr = q3 - q1\n",
    "    \n",
    "    x_train.loc[x_train[col] > q3 + 1.5*iqr, col] = q3\n",
    "    x_test.loc[x_test[col] > q3 + 1.5*iqr, col] = q3\n",
    "    p.loc[p[col] > q3 + 1.5*iqr, col] = q3\n",
    "    \n",
    "    x_train.loc[x_train[col] < q1 - 1.5*iqr, col] = q1\n",
    "    x_test.loc[x_test[col] < q1 - 1.5*iqr, col] = q1\n",
    "    p.loc[p[col] < q1 - 1.5*iqr, col] = q1\n",
    "    "
   ]
  },
  {
   "cell_type": "markdown",
   "metadata": {},
   "source": [
    "**Handling Numerical Variables**"
   ]
  },
  {
   "cell_type": "code",
   "execution_count": 36,
   "metadata": {},
   "outputs": [],
   "source": [
    "x_train[\"GarageYrBlt\"].fillna(0, inplace = True)\n",
    "x_test[\"GarageYrBlt\"].fillna(0, inplace = True)\n",
    "p[\"GarageYrBlt\"].fillna(0, inplace = True)"
   ]
  },
  {
   "cell_type": "markdown",
   "metadata": {},
   "source": [
    "Some features have wrong datatypes and some features have different datatypes in train and prediciton set. We will make these consistent; Features like area will be cast to float datatype while while year, count etc will be set to integer. We will make these corrections before creating new features."
   ]
  },
  {
   "cell_type": "code",
   "execution_count": 37,
   "metadata": {},
   "outputs": [],
   "source": [
    "area = [\"LotArea\",'BsmtFinSF1', 'BsmtFinSF2', 'BsmtUnfSF',\n",
    "      'TotalBsmtSF','2ndFlrSF', 'LowQualFinSF', 'GrLivArea',\n",
    "      'WoodDeckSF', 'OpenPorchSF', 'EnclosedPorch', '3SsnPorch',\n",
    "       'ScreenPorch', 'PoolArea', 'MiscVal', 'MasVnrArea']\n",
    "\n",
    "yc = ['GarageYrBlt','TotalBsmtSF', 'BsmtFullBath', 'BsmtHalfBath', 'GarageYrBlt',\n",
    "       'GarageCars',]"
   ]
  },
  {
   "cell_type": "code",
   "execution_count": 38,
   "metadata": {},
   "outputs": [],
   "source": [
    "x_train[area] = x_train[area].astype('float64')\n",
    "x_train[yc] = x_train[yc].astype('int64')\n",
    "\n",
    "x_test[area] = x_test[area].astype('float64')\n",
    "x_test[yc] = x_test[yc].astype('int64')\n",
    "\n",
    "p[area] = p[area].astype('float64')\n",
    "p[yc] = p[yc].astype('int64')"
   ]
  },
  {
   "cell_type": "code",
   "execution_count": 39,
   "metadata": {},
   "outputs": [],
   "source": [
    "def numfeatures(x):\n",
    "    \n",
    "    x[\"House Rating\"] = x[\"OverallQual\"] * x[\"OverallCond\"] / 10\n",
    "    x[\"House_Oldness\"] = x[\"YrSold\"] - x[\"YearBuilt\"]\n",
    "    x[\"Year_SR\"] = x[\"YrSold\"] - x[\"YearRemodAdd\"]\n",
    "    x[\"Bsmtfin\"] = x[\"BsmtFinSF1\"] + x[\"BsmtFinSF2\"]\n",
    "    x[\"Total_HouseSF\"] = x[\"GrLivArea\"] + x[\"TotalBsmtSF\"]\n",
    "    x[\"LivLotRatio\"] = x[\"GrLivArea\"] / x[\"LotArea\"]\n",
    "    x[\"TotalPorchSF\"] = x[\"OpenPorchSF\"] + x[\"EnclosedPorch\"] + x[\"3SsnPorch\"] + x[\"ScreenPorch\"]\n",
    "    x[\"Partial_Sale\"] = x[\"SaleCondition\"].apply(lambda x: 1 if x == 'Partial' else 0)\n",
    "    x = x.drop([\"Id\"],axis=1)\n",
    "    return x\n",
    "\n",
    "x_train = numfeatures(x_train)\n",
    "x_test = numfeatures(x_test)\n",
    "p = numfeatures(p)"
   ]
  },
  {
   "cell_type": "code",
   "execution_count": 40,
   "metadata": {},
   "outputs": [],
   "source": [
    "# Mutual Info Method to find out feature importance\n",
    "from sklearn.feature_selection import mutual_info_regression\n",
    "\n",
    "mi_data = x_train.copy()\n",
    "\n",
    "y_mi = y_train\n",
    "x_mi  = mi_data[mi_data.columns[mi_data.dtypes != 'object']]\n",
    "\n",
    "mx_train, mx_test,my_train,my_test = train_test_split(x_mi,y_mi,test_size=0.25)\n",
    "\n",
    "mutual_info = mutual_info_regression(mx_train,my_train)\n",
    "\n",
    "mutual_info = pd.Series(mutual_info)\n",
    "mutual_info.index = mx_train.columns"
   ]
  },
  {
   "cell_type": "code",
   "execution_count": 41,
   "metadata": {},
   "outputs": [
    {
     "data": {
      "image/png": "[encoded data removed]",
      "text/plain": [
       "<Figure size 1440x1080 with 1 Axes>"
      ]
     },
     "metadata": {},
     "output_type": "display_data"
    }
   ],
   "source": [
    "mutual_info.sort_values(ascending = False).plot.bar(figsize=(20,15))\n",
    "plt.show()"
   ]
  },
  {
   "cell_type": "code",
   "execution_count": 42,
   "metadata": {},
   "outputs": [
    {
     "data": {
      "text/plain": [
       "Index(['OverallQual', 'GrLivArea', 'House Rating', 'Total_HouseSF'], dtype='object')"
      ]
     },
     "execution_count": 42,
     "metadata": {},
     "output_type": "execute_result"
    }
   ],
   "source": [
    "from sklearn.feature_selection import SelectKBest, SelectPercentile\n",
    "\n",
    "top_features = SelectPercentile(mutual_info_regression, percentile = 10)\n",
    "top_features.fit(mx_train,my_train)\n",
    "mx_train.columns[top_features.get_support()]"
   ]
  },
  {
   "cell_type": "code",
   "execution_count": 43,
   "metadata": {},
   "outputs": [],
   "source": [
    "weak_features = mutual_info.index[mutual_info < 0.1 ]\n",
    "\n",
    "x_train.drop(weak_features,axis=1,inplace=True)\n",
    "x_test.drop(weak_features,axis=1,inplace=True)\n",
    "p.drop(weak_features,axis=1,inplace=True)"
   ]
  },
  {
   "cell_type": "markdown",
   "metadata": {},
   "source": [
    "**Handling Categorical Variables**\n",
    "\n",
    "1. Some features have high cardinality.\n",
    "2. Some features have ordered relationships and other do not."
   ]
  },
  {
   "cell_type": "markdown",
   "metadata": {},
   "source": [
    "**Ordinal Encoding**"
   ]
  },
  {
   "cell_type": "code",
   "execution_count": 44,
   "metadata": {},
   "outputs": [],
   "source": [
    "non_ordinal = ['MSSubClass', 'MSZoning', 'Street', 'LandContour',\n",
    "       'LotConfig','Neighborhood', 'Condition1',\n",
    "       'Condition2', 'BldgType', 'HouseStyle', 'RoofStyle', 'RoofMatl',\n",
    "       'Exterior1st', 'Exterior2nd', 'MasVnrType',\n",
    "       'Foundation','Heating',\n",
    "       'GarageType', \n",
    "       'MoSold', 'SaleType', 'SaleCondition']\n",
    "\n",
    "ordinal = ['LotShape','LandSlope','ExterQual', 'ExterCond','BsmtQual', 'BsmtCond','BsmtExposure',\n",
    "           'BsmtFinType1','BsmtFinType2',\n",
    "           'HeatingQC',\n",
    "           'KitchenQual','Functional','FireplaceQu','GarageFinish', 'GarageQual', 'GarageCond',\n",
    "           'PavedDrive', 'CentralAir', 'Electrical', 'Utilities']"
   ]
  },
  {
   "cell_type": "code",
   "execution_count": 45,
   "metadata": {},
   "outputs": [
    {
     "name": "stdout",
     "output_type": "stream",
     "text": [
      "21\n",
      "20\n",
      "41\n"
     ]
    }
   ],
   "source": [
    "print(len(non_ordinal))\n",
    "print(len(ordinal))\n",
    "print(len(x_train.columns[x_train.dtypes == 'object']))"
   ]
  },
  {
   "cell_type": "code",
   "execution_count": 46,
   "metadata": {},
   "outputs": [],
   "source": [
    "cat_train = []\n",
    "for obj in ordinal:\n",
    "    cat_train.append(x_train[obj].unique())"
   ]
  },
  {
   "cell_type": "code",
   "execution_count": 47,
   "metadata": {},
   "outputs": [
    {
     "data": {
      "text/plain": [
       "[array(['Reg', 'IR1', 'IR2', 'IR3'], dtype=object),\n",
       " array(['Gtl', 'Mod', 'Sev'], dtype=object),\n",
       " array(['TA', 'Gd', 'Ex', 'Fa'], dtype=object),\n",
       " array(['Gd', 'TA', 'Ex', 'Fa', 'Po'], dtype=object),\n",
       " array(['TA', 'Gd', 'Fa', 'NA', 'Ex'], dtype=object),\n",
       " array(['TA', 'Fa', 'NA', 'Gd', 'Po'], dtype=object),\n",
       " array(['No', 'Av', 'Gd', 'Mn', 'NA'], dtype=object),\n",
       " array(['Rec', 'Unf', 'ALQ', 'LwQ', 'BLQ', 'GLQ', 'NA'], dtype=object),\n",
       " array(['Unf', 'LwQ', 'Rec', 'BLQ', 'NA', 'GLQ', 'ALQ'], dtype=object),\n",
       " array(['TA', 'Gd', 'Ex', 'Fa', 'Po'], dtype=object),\n",
       " array(['TA', 'Gd', 'Ex', 'Fa'], dtype=object),\n",
       " array(['Typ', 'Min2', 'Min1', 'Maj2', 'Mod', 'Maj1', 'Sev'], dtype=object),\n",
       " array(['NA', 'TA', 'Gd', 'Fa', 'Ex', 'Po'], dtype=object),\n",
       " array(['RFn', 'NA', 'Unf', 'Fin'], dtype=object),\n",
       " array(['TA', 'NA', 'Po', 'Fa', 'Gd', 'Ex'], dtype=object),\n",
       " array(['TA', 'NA', 'Po', 'Fa', 'Gd', 'Ex'], dtype=object),\n",
       " array(['Y', 'P', 'N'], dtype=object),\n",
       " array(['Y', 'N'], dtype=object),\n",
       " array(['SBrkr', 'FuseA', 'FuseF', 'FuseP', 'Mix'], dtype=object),\n",
       " array(['AllPub', 'NoSeWa'], dtype=object)]"
      ]
     },
     "execution_count": 47,
     "metadata": {},
     "output_type": "execute_result"
    }
   ],
   "source": [
    "cat_train"
   ]
  },
  {
   "cell_type": "markdown",
   "metadata": {},
   "source": [
    "For ordinal encoding we need to rearrange the categories in descending order of importance.Some of the category orders are jumbled, which we have to update manually."
   ]
  },
  {
   "cell_type": "code",
   "execution_count": 48,
   "metadata": {},
   "outputs": [],
   "source": [
    "from sklearn.preprocessing import OrdinalEncoder"
   ]
  },
  {
   "cell_type": "code",
   "execution_count": 49,
   "metadata": {},
   "outputs": [
    {
     "data": {
      "text/plain": [
       "OrdinalEncoder(categories=[['IR3', 'IR2', 'IR1', 'Reg'], ['Sev', 'Mod', 'Gtl'],\n",
       "                           ['NA', 'Po', 'Fa', 'TA', 'Gd', 'Ex'],\n",
       "                           ['NA', 'Po', 'Fa', 'TA', 'Gd', 'Ex'],\n",
       "                           ['NA', 'Po', 'Fa', 'TA', 'Gd', 'Ex'],\n",
       "                           ['NA', 'Po', 'Fa', 'TA', 'Gd', 'Ex'],\n",
       "                           ['NA', 'No', 'Mn', 'Av', 'Gd'],\n",
       "                           ['NA', 'Unf', 'LwQ', 'Rec', 'BLQ', 'ALQ', 'GLQ'],\n",
       "                           ['NA', 'Unf', 'LwQ', 'Rec', 'BLQ', 'ALQ', 'GLQ'],\n",
       "                           ['NA', 'Po', 'Fa', 'TA', 'Gd', 'Ex'],\n",
       "                           ['NA', 'Po', 'Fa', 'TA', 'Gd', 'Ex'],\n",
       "                           ['Sal', 'Sev', 'Maj2', 'Maj1', 'Mod', 'Min2', 'Min1',\n",
       "                            'Typ'],\n",
       "                           ['NA', 'Po', 'Fa', 'TA', 'Gd', 'Ex'],\n",
       "                           ['NA', 'Unf', 'RFn', 'Fin'],\n",
       "                           ['NA', 'Po', 'Fa', 'TA', 'Gd', 'Ex'],\n",
       "                           ['NA', 'Po', 'Fa', 'TA', 'Gd', 'Ex'],\n",
       "                           ['N', 'P', 'Y'], ['N', 'Y'],\n",
       "                           ['Mix', 'FuseP', 'FuseF', 'FuseA', 'SBrkr'],\n",
       "                           ['ELO', 'NoSeWa', 'NoSewr', 'AllPub']],\n",
       "               dtype='int64')"
      ]
     },
     "execution_count": 49,
     "metadata": {},
     "output_type": "execute_result"
    }
   ],
   "source": [
    "oe = OrdinalEncoder([[\"IR3\",\"IR2\",\"IR1\",\"Reg\"],\n",
    "                       [\"Sev\", \"Mod\", \"Gtl\"],\n",
    "                       [\"NA\",\"Po\", \"Fa\", \"TA\", \"Gd\", \"Ex\"],\n",
    "                       [\"NA\",\"Po\", \"Fa\", \"TA\", \"Gd\", \"Ex\"],\n",
    "                       [\"NA\",\"Po\", \"Fa\", \"TA\", \"Gd\", \"Ex\"],\n",
    "                       [\"NA\",\"Po\", \"Fa\", \"TA\", \"Gd\", \"Ex\"],\n",
    "                       [\"NA\", \"No\", \"Mn\", \"Av\",\"Gd\"],\n",
    "                       [\"NA\",\"Unf\", \"LwQ\", \"Rec\", \"BLQ\", \"ALQ\", \"GLQ\"],\n",
    "                       [\"NA\",\"Unf\", \"LwQ\", \"Rec\", \"BLQ\", \"ALQ\", \"GLQ\"],\n",
    "                       [\"NA\",\"Po\", \"Fa\", \"TA\", \"Gd\", \"Ex\"],\n",
    "                       [\"NA\",\"Po\", \"Fa\", \"TA\", \"Gd\", \"Ex\"],\n",
    "                       [\"Sal\",\"Sev\", \"Maj2\", \"Maj1\", \"Mod\", \"Min2\", \"Min1\", \"Typ\"],\n",
    "                       [\"NA\",\"Po\", \"Fa\", \"TA\", \"Gd\", \"Ex\"],\n",
    "                       [\"NA\",\"Unf\",\"RFn\",\"Fin\" ],\n",
    "                       [\"NA\",\"Po\", \"Fa\", \"TA\", \"Gd\", \"Ex\"],\n",
    "                       [\"NA\",\"Po\", \"Fa\", \"TA\", \"Gd\", \"Ex\"],\n",
    "                       ['N', 'P', 'Y'],\n",
    "                       [\"N\", \"Y\"],\n",
    "                       [\"Mix\",\"FuseP\",\"FuseF\",\"FuseA\",\"SBrkr\"],\n",
    "                       [\"ELO\", \"NoSeWa\", \"NoSewr\", \"AllPub\"]], dtype ='int64'\n",
    "                      )\n",
    "oe.fit(x_train[ordinal]) "
   ]
  },
  {
   "cell_type": "code",
   "execution_count": 50,
   "metadata": {},
   "outputs": [],
   "source": [
    "x_train[ordinal] = pd.DataFrame(oe.transform(x_train[ordinal]))\n",
    "x_test[ordinal] = pd.DataFrame(oe.transform(x_test[ordinal]))\n",
    "p[ordinal] = pd.DataFrame(oe.transform(p[ordinal]))"
   ]
  },
  {
   "cell_type": "markdown",
   "metadata": {},
   "source": [
    "**One - Hot Encoding**"
   ]
  },
  {
   "cell_type": "code",
   "execution_count": 51,
   "metadata": {},
   "outputs": [
    {
     "data": {
      "text/plain": [
       "OneHotEncoder(dtype='int64', handle_unknown='ignore')"
      ]
     },
     "execution_count": 51,
     "metadata": {},
     "output_type": "execute_result"
    }
   ],
   "source": [
    "# One-hot encoding these features\n",
    "\n",
    "oh = OneHotEncoder(dtype = 'int64', handle_unknown = 'ignore')\n",
    "\n",
    "features = x_train.columns[x_train.dtypes == 'object']\n",
    "\n",
    "oh.fit(x_train[features])"
   ]
  },
  {
   "cell_type": "code",
   "execution_count": 52,
   "metadata": {},
   "outputs": [],
   "source": [
    "x_train_enc = pd.DataFrame(oh.transform(x_train[features]).toarray())\n",
    "x_test_enc = pd.DataFrame(oh.transform(x_test[features]).toarray())\n",
    "\n",
    "p_enc = pd.DataFrame(oh.transform(p[features]).toarray())"
   ]
  },
  {
   "cell_type": "code",
   "execution_count": 53,
   "metadata": {},
   "outputs": [],
   "source": [
    "x_train.drop(x_train[features],axis=1,inplace=True)\n",
    "x_test.drop(x_test[features],axis=1,inplace=True)\n",
    "p.drop(p[features],axis=1,inplace=True)"
   ]
  },
  {
   "cell_type": "code",
   "execution_count": 54,
   "metadata": {},
   "outputs": [],
   "source": [
    "x_train_final = x_train.join(x_train_enc)\n",
    "x_test_final = x_test.join(x_test_enc)\n",
    "p_final = p.join(p_enc)"
   ]
  },
  {
   "cell_type": "code",
   "execution_count": 55,
   "metadata": {},
   "outputs": [
    {
     "name": "stdout",
     "output_type": "stream",
     "text": [
      "(1168, 224) \n",
      "\n",
      "(292, 224) \n",
      "\n",
      "(1459, 224) \n",
      "\n"
     ]
    }
   ],
   "source": [
    "print(x_train_final.shape,'\\n')\n",
    "print(x_test_final.shape,'\\n')\n",
    "print(p_final.shape,'\\n')"
   ]
  },
  {
   "cell_type": "markdown",
   "metadata": {},
   "source": [
    "**Setting a variance threshold to filter out features with low variance in their data**"
   ]
  },
  {
   "cell_type": "code",
   "execution_count": 56,
   "metadata": {},
   "outputs": [],
   "source": [
    "from sklearn.feature_selection import VarianceThreshold"
   ]
  },
  {
   "cell_type": "code",
   "execution_count": 57,
   "metadata": {},
   "outputs": [
    {
     "data": {
      "text/plain": [
       "VarianceThreshold(threshold=0.005)"
      ]
     },
     "execution_count": 57,
     "metadata": {},
     "output_type": "execute_result"
    }
   ],
   "source": [
    "\n",
    "vt_x = x_train_final\n",
    "vt_y = y_train\n",
    "\n",
    "vx_train, vx_test,vy_train,vy_test = train_test_split(vt_x,vt_y,test_size=0.25)\n",
    "\n",
    "\n",
    "v = VarianceThreshold(threshold = 0.005)\n",
    "v.fit(vx_train)"
   ]
  },
  {
   "cell_type": "code",
   "execution_count": 58,
   "metadata": {},
   "outputs": [],
   "source": [
    "low_variance_col = [feature for feature in vt_x.columns\n",
    "                    if feature not in vt_x.columns[v.get_support()]]\n",
    "\n",
    "x_train_final = x_train_final.drop(low_variance_col, axis = 1)\n",
    "x_test_final = x_test_final.drop(low_variance_col, axis = 1)\n",
    "p_final = p_final.drop(low_variance_col,axis=1)"
   ]
  },
  {
   "cell_type": "code",
   "execution_count": 59,
   "metadata": {},
   "outputs": [
    {
     "name": "stdout",
     "output_type": "stream",
     "text": [
      "(1168, 179) \n",
      "\n",
      "(292, 179) \n",
      "\n",
      "(1459, 179) \n",
      "\n"
     ]
    }
   ],
   "source": [
    "print(x_train_final.shape,'\\n')\n",
    "print(x_test_final.shape,'\\n')\n",
    "print(p_final.shape,'\\n')"
   ]
  },
  {
   "cell_type": "markdown",
   "metadata": {},
   "source": [
    " **MODEL**"
   ]
  },
  {
   "cell_type": "code",
   "execution_count": 60,
   "metadata": {},
   "outputs": [],
   "source": [
    "from sklearn.model_selection import RandomizedSearchCV\n",
    "\n",
    "optimization_data = x_train_final\n",
    "\n",
    "y = y_train\n",
    "x = optimization_data\n",
    "\n",
    "\n",
    "XGB = XGBRegressor()\n"
   ]
  },
  {
   "cell_type": "code",
   "execution_count": 61,
   "metadata": {},
   "outputs": [],
   "source": [
    "# Parameters for tuning the model;\n",
    "\n",
    "n_estimators = [500 , 1000, 1500 , 2000]\n",
    "max_depth = [2, 3, 5, 10]\n",
    "learning_rate = [0.05, 0.1, 0.15, 0.2]\n",
    "min_child_weight = [1, 2, 3, 4]\n",
    "\n",
    "\n",
    "hyperparameter = {'n_estimators' : n_estimators,\n",
    "                 'max_depth' : max_depth,\n",
    "                 'learning_rate' : learning_rate,\n",
    "                 'min_child_weight' : min_child_weight}"
   ]
  },
  {
   "cell_type": "code",
   "execution_count": 62,
   "metadata": {},
   "outputs": [],
   "source": [
    "random_cv = RandomizedSearchCV(estimator = XGB, param_distributions = hyperparameter, cv = 5,\n",
    "                              n_iter = 10, scoring = 'neg_mean_squared_error', n_jobs = 4,\n",
    "                              verbose = 5, return_train_score = True, random_state = 42)"
   ]
  },
  {
   "cell_type": "code",
   "execution_count": 63,
   "metadata": {},
   "outputs": [
    {
     "name": "stdout",
     "output_type": "stream",
     "text": [
      "Fitting 5 folds for each of 10 candidates, totalling 50 fits\n"
     ]
    },
    {
     "data": {
      "text/plain": [
       "RandomizedSearchCV(cv=5,\n",
       "                   estimator=XGBRegressor(base_score=None, booster=None,\n",
       "                                          colsample_bylevel=None,\n",
       "                                          colsample_bynode=None,\n",
       "                                          colsample_bytree=None,\n",
       "                                          enable_categorical=False, gamma=None,\n",
       "                                          gpu_id=None, importance_type=None,\n",
       "                                          interaction_constraints=None,\n",
       "                                          learning_rate=None,\n",
       "                                          max_delta_step=None, max_depth=None,\n",
       "                                          min_child_weight=None, missing=nan,\n",
       "                                          monotone_constraints=...\n",
       "                                          reg_alpha=None, reg_lambda=None,\n",
       "                                          scale_pos_weight=None, subsample=None,\n",
       "                                          tree_method=None,\n",
       "                                          validate_parameters=None,\n",
       "                                          verbosity=None),\n",
       "                   n_jobs=4,\n",
       "                   param_distributions={'learning_rate': [0.05, 0.1, 0.15, 0.2],\n",
       "                                        'max_depth': [2, 3, 5, 10],\n",
       "                                        'min_child_weight': [1, 2, 3, 4],\n",
       "                                        'n_estimators': [500, 1000, 1500,\n",
       "                                                         2000]},\n",
       "                   random_state=42, return_train_score=True,\n",
       "                   scoring='neg_mean_squared_error', verbose=5)"
      ]
     },
     "execution_count": 63,
     "metadata": {},
     "output_type": "execute_result"
    }
   ],
   "source": [
    "random_cv.fit(x,y)"
   ]
  },
  {
   "cell_type": "code",
   "execution_count": 64,
   "metadata": {},
   "outputs": [
    {
     "data": {
      "text/plain": [
       "{'n_estimators': 1000,\n",
       " 'min_child_weight': 2,\n",
       " 'max_depth': 10,\n",
       " 'learning_rate': 0.1}"
      ]
     },
     "execution_count": 64,
     "metadata": {},
     "output_type": "execute_result"
    }
   ],
   "source": [
    "random_cv.best_params_"
   ]
  },
  {
   "cell_type": "code",
   "execution_count": 66,
   "metadata": {},
   "outputs": [
    {
     "data": {
      "text/plain": [
       "XGBRegressor(base_score=0.5, booster='gbtree', colsample_bylevel=1,\n",
       "             colsample_bynode=1, colsample_bytree=1, enable_categorical=False,\n",
       "             gamma=0, gpu_id=-1, importance_type=None,\n",
       "             interaction_constraints='', learning_rate=0.1, max_delta_step=0,\n",
       "             max_depth=10, min_child_weight=2, missing=nan,\n",
       "             monotone_constraints='()', n_estimators=1000, n_jobs=8,\n",
       "             num_parallel_tree=1, predictor='auto', random_state=0, reg_alpha=0,\n",
       "             reg_lambda=1, scale_pos_weight=1, subsample=1, tree_method='exact',\n",
       "             validate_parameters=1, verbosity=None)"
      ]
     },
     "execution_count": 66,
     "metadata": {},
     "output_type": "execute_result"
    }
   ],
   "source": [
    "# Updating model with new parameters\n",
    "\n",
    "XGB_optimized = XGBRegressor(n_estimators = 1000,min_child_weight = 2,max_depth = 10,learning_rate = 0.1)\n",
    "XGB_optimized.fit(x_train_final,y_train)"
   ]
  },
  {
   "cell_type": "code",
   "execution_count": 67,
   "metadata": {},
   "outputs": [
    {
     "name": "stdout",
     "output_type": "stream",
     "text": [
      "XGB : 0.14657246133615318 \n",
      "\n"
     ]
    }
   ],
   "source": [
    "# Cross Validation Score of updated model;\n",
    "\n",
    "\n",
    "xgb_score = cross_val_score(XGB_optimized,x_train_final,y_train,cv=5, scoring = \"neg_mean_squared_error\")\n",
    "xgb_score = -1 * xgb_score.mean()\n",
    "xgb_score = np.sqrt(xgb_score)\n",
    "\n",
    "print(\"XGB :\", xgb_score,'\\n')"
   ]
  },
  {
   "cell_type": "code",
   "execution_count": 68,
   "metadata": {},
   "outputs": [
    {
     "name": "stdout",
     "output_type": "stream",
     "text": [
      "0.1517289500376987\n"
     ]
    }
   ],
   "source": [
    "# Performance on model on unknown data\n",
    "\n",
    "print(np.sqrt(mean_squared_error(XGB_optimized.predict(x_test_final), y_test)))"
   ]
  },
  {
   "cell_type": "code",
   "execution_count": 69,
   "metadata": {},
   "outputs": [],
   "source": [
    "# Prediction and output generation;\n",
    "\n",
    "Price = np.floor(np.exp(XGB_optimized.predict(p_final)))\n",
    "\n",
    "pset = pd.read_csv(r\"C:\\Users\\Sasidharan\\Desktop\\Data Science Projects\\House Price Prediction\\test.csv\")\n",
    "\n",
    "output = pd.DataFrame({'Id': pset['Id'],\n",
    "                      'SalePrice' : Price})\n",
    "\n",
    "output.to_csv(r\"C:\\Users\\Sasidharan\\Desktop\\Data Science Projects\\House Price Prediction\\pred.csv\",index=False)"
   ]
  },
  {
   "cell_type": "markdown",
   "metadata": {},
   "source": []
  }
 ],
 "metadata": {
  "kernelspec": {
   "display_name": "Python 3",
   "language": "python",
   "name": "python3"
  },
  "language_info": {
   "codemirror_mode": {
    "name": "ipython",
    "version": 3
   },
   "file_extension": ".py",
   "mimetype": "text/x-python",
   "name": "python",
   "nbconvert_exporter": "python",
   "pygments_lexer": "ipython3",
   "version": "3.6.5"
  },
  "papermill": {
   "default_parameters": {},
   "duration": 31.130371,
   "end_time": "2021-05-17T07:05:33.398096",
   "environment_variables": {},
   "exception": null,
   "input_path": "__notebook__.ipynb",
   "output_path": "__notebook__.ipynb",
   "parameters": {},
   "start_time": "2021-05-17T07:05:02.267725",
   "version": "2.3.3"
  }
 },
 "nbformat": 4,
 "nbformat_minor": 5
}
